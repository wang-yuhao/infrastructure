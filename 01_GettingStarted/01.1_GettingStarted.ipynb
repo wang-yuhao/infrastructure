{
 "cells": [
  {
   "cell_type": "markdown",
   "metadata": {},
   "source": [
    "# Exercise 1 - HPC Environment and SLURM "
   ]
  },
  {
   "cell_type": "markdown",
   "metadata": {},
   "source": [
    "1.1. Create a Github Account and send account name to\n",
    "\n",
    "1.1. Please connect to the Jupyter Notebook Server! Clone the Exercise repository into your folder. Use Jupyter Notebooks to complete and document the exercises!\n",
    "\n",
    "\n",
    "1.2. Please log into CoolMuc3 cluster using your assigned user name!\n",
    "\n",
    "1.3. Please review the LRZ Guide for Job Processing: <https://www.lrz.de/services/compute/linux-cluster/job_processing/> on CoolMuc3! Make yourself familiar with basic SLURM commands."
   ]
  },
  {
   "cell_type": "code",
   "execution_count": 1,
   "metadata": {},
   "outputs": [
    {
     "name": "stdout",
     "output_type": "stream",
     "text": [
      "   Cluster     ControlHost  ControlPort   RPC     Share GrpJobs       GrpTRES GrpSubmit MaxJobs       MaxTRES MaxSubmit     MaxWall                  QOS   Def QOS \n",
      "---------- --------------- ------------ ----- --------- ------- ------------- --------- ------- ------------- --------- ----------- -------------------- --------- \n",
      "  bsbslurm     10.156.79.2         6996  7936         1                                                                                           normal           \n",
      "   hm_mech     10.156.79.2         7086  7936         1                                                                                           normal           \n",
      "      httf     10.156.79.2         7406  7936         1                                                                                           normal           \n",
      "      htus     10.156.79.2         7106  7936         1                                                                                           normal           \n",
      "   hugemem                            0  7936         1                                                                                           normal           \n",
      "     inter     10.156.79.2         6827  7936         1                                       1                       2                           normal           \n",
      "    ivymuc     10.156.79.2         7306  7936         1                                                                                           normal           \n",
      "       kcs     10.156.79.2         7506  7936                                                                                                                      \n",
      "   kcs_nim     10.156.79.2         7206  7936         1                                                                                           normal           \n",
      "       lcg     10.156.79.2         7006  7936         1                                                                                           normal           \n",
      "   lmu_asc     10.156.79.2         6766  7936         1                                                                                           normal           \n",
      "   lmu_exc     10.156.79.2         7016  7936         1                                                                                           normal           \n",
      "      mpp2     10.156.79.2         7043  7936         1                                      50                                                   normal           \n",
      "      mpp3     10.156.79.2         7096  7936         1                                      50                                                   normal           \n",
      "      myri                            0     0         1                                                                                           normal           \n",
      "       rvs     10.156.79.2         6877  7936         1                                       1                       1                           normal           \n",
      "    serial     10.156.79.2         6973  7936         1                                                                                           normal           \n",
      "   tum_aer     10.156.79.2         7076  7936         1                                                                                           normal           \n",
      "  tum_chem     10.156.79.2         7056  7936         1                                                                                           normal           \n",
      "tum_geode+     10.156.79.2         6986  7936         1                                                                                           normal           \n"
     ]
    }
   ],
   "source": [
    "!sacctmgr list clusters"
   ]
  },
  {
   "cell_type": "code",
   "execution_count": 2,
   "metadata": {},
   "outputs": [
    {
     "name": "stdout",
     "output_type": "stream",
     "text": [
      "CLUSTER: mpp3\n",
      "PARTITION    AVAIL  TIMELIMIT NODES STATE  NODELIST\n",
      "mpp3_batch*  up    2-00:00:00     2 resv   mpp3r03c05s[04-05]\n",
      "mpp3_batch*  up    2-00:00:00   143 alloc  mpp3r01c01s[01-10],mpp3r01c02s[01-10],mpp3r01c03s[01-10],mpp3r01c04s[01-10],mpp3r01c05s[01-10],mpp3r02c01s[01-10],mpp3r02c02s[01-10],mpp3r02c03s[01-10],mpp3r02c04s[01-10],mpp3r02c05s[01-10],mpp3r03c01s[01-10],mpp3r03c02s[01-10],mpp3r03c03s[01-10],mpp3r03c04s[01-10],mpp3r03c05s[06-08]\n"
     ]
    }
   ],
   "source": [
    "!sinfo --clusters=mpp3"
   ]
  },
  {
   "cell_type": "code",
   "execution_count": 3,
   "metadata": {},
   "outputs": [
    {
     "name": "stdout",
     "output_type": "stream",
     "text": [
      "CLUSTER: mpp3\n",
      "  JOBID PARTITION   NAME     USER        STATE       TIME TIME_LIMI  NODES NODELIST(REASON)\n"
     ]
    }
   ],
   "source": [
    "!squeue --clusters=mpp3 -u di57hah"
   ]
  },
  {
   "cell_type": "code",
   "execution_count": 4,
   "metadata": {},
   "outputs": [],
   "source": [
    "!scontrol show reservation | grep Lehrveranstaltung"
   ]
  },
  {
   "cell_type": "markdown",
   "metadata": {},
   "source": [
    "1.4. Please formalate a SLURM Job Script that executes runs on two nodes and outputs the hostnames!\n",
    "\n"
   ]
  }
 ],
 "metadata": {
  "kernelspec": {
   "display_name": "Python 3",
   "language": "python",
   "name": "python3"
  },
  "language_info": {
   "codemirror_mode": {
    "name": "ipython",
    "version": 3
   },
   "file_extension": ".py",
   "mimetype": "text/x-python",
   "name": "python",
   "nbconvert_exporter": "python",
   "pygments_lexer": "ipython3",
   "version": "3.6.8"
  }
 },
 "nbformat": 4,
 "nbformat_minor": 2
}
